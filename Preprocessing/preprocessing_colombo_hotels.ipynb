{
  "nbformat": 4,
  "nbformat_minor": 0,
  "metadata": {
    "colab": {
      "provenance": [],
      "authorship_tag": "ABX9TyNsFl9cu4VhbjZn5IJm1bTZ",
      "include_colab_link": true
    },
    "kernelspec": {
      "name": "python3",
      "display_name": "Python 3"
    },
    "language_info": {
      "name": "python"
    }
  },
  "cells": [
    {
      "cell_type": "markdown",
      "metadata": {
        "id": "view-in-github",
        "colab_type": "text"
      },
      "source": [
        "<a href=\"https://colab.research.google.com/github/mathu3004/Pearl_Path/blob/Preprocessing/preprocessing_colombo_hotels.ipynb\" target=\"_parent\"><img src=\"https://colab.research.google.com/assets/colab-badge.svg\" alt=\"Open In Colab\"/></a>"
      ]
    },
    {
      "cell_type": "code",
      "execution_count": 6,
      "metadata": {
        "colab": {
          "base_uri": "https://localhost:8080/"
        },
        "id": "wM2XALh-VtmS",
        "outputId": "f6414705-1711-49ea-d69e-a3bb1d87c3e7"
      },
      "outputs": [
        {
          "output_type": "stream",
          "name": "stdout",
          "text": [
            "Drive already mounted at /content/drive; to attempt to forcibly remount, call drive.mount(\"/content/drive\", force_remount=True).\n"
          ]
        }
      ],
      "source": [
        "from google.colab import drive\n",
        "drive.mount('/content/drive')"
      ]
    },
    {
      "cell_type": "code",
      "source": [
        "import pandas as pd\n",
        "import re"
      ],
      "metadata": {
        "id": "OoBDkVVAW6WU"
      },
      "execution_count": 14,
      "outputs": []
    },
    {
      "cell_type": "code",
      "source": [
        "colombo_hotels = pd.read_excel('/content/drive/MyDrive/DSGP_ME/colomboHotels.xlsx', engine='openpyxl')\n",
        "\n",
        "# Rename columns by replacing '/' with '_'\n",
        "colombo_hotels.columns = colombo_hotels.columns.str.replace('/', '_', regex=False)\n",
        "\n",
        "threshold = 0.8  # Remove columns with more than 80% missing values\n",
        "colombo_hotels = colombo_hotels.dropna(thresh=len(colombo_hotels) * (1 - threshold), axis=1)\n",
        "\n",
        "amenity_columns = [col for col in colombo_hotels.columns if col.startswith('amenities_')]\n",
        "\n",
        "colombo_hotels['all_amenities'] = colombo_hotels[amenity_columns].apply(lambda row: ', '.join(row.dropna().astype(str)), axis=1)\n",
        "\n",
        "# Drop rows where the 'all_amenities' column is empty (no amenities at all)\n",
        "colombo_hotels = colombo_hotels[colombo_hotels['all_amenities'].notna()]\n",
        "\n",
        "# Drop the original separate columns\n",
        "colombo_hotels = colombo_hotels.drop(columns=amenity_columns)\n",
        "\n",
        "# Replace missing values in 'categoryReviewScores_3_categoryName' with 'Cleanliness'\n",
        "colombo_hotels['categoryReviewScores_3_categoryName'] = colombo_hotels['categoryReviewScores_3_categoryName'].fillna('Cleanliness')\n",
        "\n",
        "# Replace missing values in 'categoryReviewScores_4_categoryName' with 'Service'\n",
        "colombo_hotels['categoryReviewScores_4_categoryName'] = colombo_hotels['categoryReviewScores_4_categoryName'].fillna('Service')\n",
        "\n",
        "# Replace missing values in 'categoryReviewScores_5_categoryName' with 'Sleep Quality'\n",
        "colombo_hotels['categoryReviewScores_5_categoryName'] = colombo_hotels['categoryReviewScores_5_categoryName'].fillna('Sleep Quality')\n",
        "\n",
        "# Replace missing values in categoryReviewScores_*_score columns with the median (2.5)\n",
        "for i in range(6):  # Looping from 0 to 5\n",
        "    column_name = f'categoryReviewScores_{i}_score'\n",
        "    if column_name in colombo_hotels.columns:\n",
        "        colombo_hotels[column_name] = colombo_hotels[column_name].fillna(2.5)\n",
        "\n",
        "# Replace missing values in 'priceLevel' column with '$$' (representing the median or middle value)\n",
        "colombo_hotels['priceLevel'] = colombo_hotels['priceLevel'].fillna('$$')\n",
        "\n",
        "# Function to remove 'LKR' and commas and convert the values to numeric\n",
        "def extract_price_range(price_range):\n",
        "    # Check if the value is a valid string\n",
        "    if isinstance(price_range, str):\n",
        "        # Remove 'LKR' and commas, then split the range\n",
        "        price_range = re.sub(r'[^0-9-]', '', price_range)  # Keep only numbers and dashes\n",
        "        prices = price_range.split('-')\n",
        "        if len(prices) == 2:\n",
        "            min_price, max_price = map(int, prices)\n",
        "            return (min_price + max_price) / 2  # Return average of the range\n",
        "    return None  # In case of invalid data or non-string type\n",
        "\n",
        "\n",
        "# Apply the function to extract the average price and create a new column 'priceRange_LKR'\n",
        "colombo_hotels['priceRange_LKR'] = colombo_hotels['priceRange'].apply(extract_price_range)\n",
        "\n",
        "# Fill missing values in 'priceRange_LKR' with the average of the non-missing values\n",
        "average_price = colombo_hotels['priceRange_LKR'].mean()\n",
        "colombo_hotels['priceRange_LKR'] = colombo_hotels['priceRange_LKR'].fillna(average_price)\n",
        "\n",
        "# Drop the original 'priceRange' column and rename 'priceRange_LKR' column\n",
        "colombo_hotels = colombo_hotels.drop(columns=['priceRange'])\n",
        "\n",
        "# List of columns to keep, with corrected names\n",
        "columns_to_keep = [\n",
        "    'address', 'all_amenities', 'category', 'categoryReviewScores_0_categoryName',\n",
        "    'categoryReviewScores_1_categoryName', 'categoryReviewScores_2_categoryName',\n",
        "    'categoryReviewScores_3_categoryName', 'categoryReviewScores_4_categoryName',\n",
        "    'categoryReviewScores_5_categoryName', 'categoryReviewScores_0_score',\n",
        "    'categoryReviewScores_1_score', 'categoryReviewScores_2_score',\n",
        "    'categoryReviewScores_3_score', 'categoryReviewScores_4_score',\n",
        "    'categoryReviewScores_5_score', 'hotelClass', 'latitude', 'longitude',\n",
        "    'priceLevel', 'priceRange_LKR', 'rankingDenominator', 'name',\n",
        "    'rankingPosition', 'rankingString', 'rating', 'webUrl', 'website'\n",
        "]\n",
        "\n",
        "# Drop the columns that are not in the list to keep\n",
        "colombo_hotels = colombo_hotels[columns_to_keep]\n",
        "\n",
        "output_path = \"/content/drive/MyDrive/DSGP_ME/colomboHotels_processed.xlsx\"\n",
        "colombo_hotels.to_excel(output_path, index=False)\n",
        "\n",
        "print(f\"Processed file saved at: {output_path}\")\n"
      ],
      "metadata": {
        "colab": {
          "base_uri": "https://localhost:8080/"
        },
        "id": "sxHjB0QQV3In",
        "outputId": "161d7bef-f35f-4f32-dceb-ac9e4891ff9e"
      },
      "execution_count": 18,
      "outputs": [
        {
          "output_type": "stream",
          "name": "stdout",
          "text": [
            "Processed file saved at: /content/drive/MyDrive/DSGP_ME/colomboHotels_processed.xlsx\n"
          ]
        }
      ]
    }
  ]
}

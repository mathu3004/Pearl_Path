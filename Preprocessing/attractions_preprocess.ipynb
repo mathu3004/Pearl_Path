{
  "nbformat": 4,
  "nbformat_minor": 0,
  "metadata": {
    "colab": {
      "provenance": [],
      "mount_file_id": "1dGIVvMX2k76zt0QEqxOamJhY1UHIQRYA",
      "authorship_tag": "ABX9TyPdpl6V3Ktw8HCKhuvBwirQ",
      "include_colab_link": true
    },
    "kernelspec": {
      "name": "python3",
      "display_name": "Python 3"
    },
    "language_info": {
      "name": "python"
    }
  },
  "cells": [
    {
      "cell_type": "markdown",
      "metadata": {
        "id": "view-in-github",
        "colab_type": "text"
      },
      "source": [
        "<a href=\"https://colab.research.google.com/github/mathu3004/Pearl_Path/blob/Preprocessing/attractions_preprocess.ipynb\" target=\"_parent\"><img src=\"https://colab.research.google.com/assets/colab-badge.svg\" alt=\"Open In Colab\"/></a>"
      ]
    },
    {
      "cell_type": "code",
      "source": [
        "from google.colab import drive\n",
        "import pandas as pd\n",
        "\n",
        "drive.mount('/content/drive')  # Mount Google Drive"
      ],
      "metadata": {
        "colab": {
          "base_uri": "https://localhost:8080/"
        },
        "id": "F0yWreJ96DjA",
        "outputId": "3fddf351-68b9-4fe2-9bbf-9e6e7c840cfa"
      },
      "execution_count": 1,
      "outputs": [
        {
          "output_type": "stream",
          "name": "stdout",
          "text": [
            "Mounted at /content/drive\n"
          ]
        }
      ]
    },
    {
      "cell_type": "code",
      "source": [
        "# Load the Excel file\n",
        "file_path = '/content/drive/MyDrive/DSGP_ME/MergedDatasets/attractions_preprocessed.xlsx'  # Update with correct path\n",
        "df = pd.read_excel(file_path)\n",
        "\n",
        "# Remove rows where 'Latitude' or 'Longitude' contain 'no latitude' or 'no longitude'\n",
        "df = df[(df['Latitude'] != 'no latitude') & (df['Longitude'] != 'no longitude')]\n",
        "\n",
        "# Convert Latitude and Longitude to numeric, forcing errors to NaN\n",
        "df['Latitude'] = pd.to_numeric(df['Latitude'], errors='coerce')\n",
        "df['Longitude'] = pd.to_numeric(df['Longitude'], errors='coerce')\n",
        "\n",
        "# Drop any rows where Latitude or Longitude is still NaN (in case of non-numeric values)\n",
        "df = df.dropna(subset=['Latitude', 'Longitude'])\n",
        "\n",
        "# Create 'weburl' column based on available URLs\n",
        "df['weburl'] = df[['URL 1', 'URL 2', 'URL 3', 'URL 4']].apply(lambda x: next((url for url in x if pd.notna(url) and url != 'no url'), 'nourl'), axis=1)\n",
        "\n",
        "# If 'weburl' is still 'nourl', check the 'Website' column\n",
        "df['weburl'] = df.apply(lambda row: row['Website'] if row['weburl'] == 'nourl' and pd.notna(row['Website']) else row['weburl'], axis=1)\n",
        "\n",
        "# Drop original URL columns\n",
        "df = df.drop(columns=['URL 1', 'URL 2', 'URL 3', 'URL 4', 'Website'], errors='ignore')\n",
        "\n",
        "output_file_path = \"/content/drive/MyDrive/DSGP_ME/MergedDatasets/ehansa_attractions.xlsx\"\n",
        "df.to_excel(output_file_path, index=False)\n",
        "\n"
      ],
      "metadata": {
        "id": "3YOqT-Jz6B4B"
      },
      "execution_count": 5,
      "outputs": []
    }
  ]
}
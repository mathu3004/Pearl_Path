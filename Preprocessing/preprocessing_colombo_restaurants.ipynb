{
  "nbformat": 4,
  "nbformat_minor": 0,
  "metadata": {
    "colab": {
      "provenance": [],
      "authorship_tag": "ABX9TyPPa78MEimZ5I9ykO78JyuY",
      "include_colab_link": true
    },
    "kernelspec": {
      "name": "python3",
      "display_name": "Python 3"
    },
    "language_info": {
      "name": "python"
    }
  },
  "cells": [
    {
      "cell_type": "markdown",
      "metadata": {
        "id": "view-in-github",
        "colab_type": "text"
      },
      "source": [
        "<a href=\"https://colab.research.google.com/github/mathu3004/Pearl_Path/blob/Preprocessing/preprocessing_colombo_restaurants.ipynb\" target=\"_parent\"><img src=\"https://colab.research.google.com/assets/colab-badge.svg\" alt=\"Open In Colab\"/></a>"
      ]
    },
    {
      "cell_type": "code",
      "execution_count": 9,
      "metadata": {
        "colab": {
          "base_uri": "https://localhost:8080/"
        },
        "id": "P53_cTqekk_Z",
        "outputId": "e1594e4b-f4f4-4659-ef46-0625cd7eb4d0"
      },
      "outputs": [
        {
          "output_type": "stream",
          "name": "stdout",
          "text": [
            "Drive already mounted at /content/drive; to attempt to forcibly remount, call drive.mount(\"/content/drive\", force_remount=True).\n"
          ]
        }
      ],
      "source": [
        "from google.colab import drive\n",
        "drive.mount('/content/drive')"
      ]
    },
    {
      "cell_type": "code",
      "source": [
        "import pandas as pd\n",
        "import re"
      ],
      "metadata": {
        "id": "m8b_T1F0k0Jg"
      },
      "execution_count": 10,
      "outputs": []
    },
    {
      "cell_type": "code",
      "source": [
        "colombo_restaurants = pd.read_excel('/content/drive/MyDrive/DSGP_ME/colomboRestaurants.xlsx', engine='openpyxl')\n",
        "\n",
        "# Rename columns by replacing '/' with '_'\n",
        "colombo_restaurants.columns = colombo_restaurants.columns.str.replace('/', '_', regex=False)\n",
        "\n",
        "\n",
        "# Combine the 'cuisines_0' to 'cuisines_6' columns into one\n",
        "cuisine_columns = ['cuisines_0', 'cuisines_1', 'cuisines_2', 'cuisines_3', 'cuisines_4', 'cuisines_5', 'cuisines_6']\n",
        "colombo_restaurants['cuisines'] = colombo_restaurants[cuisine_columns].apply(lambda row: ', '.join(row.dropna().astype(str)), axis=1)\n",
        "\n",
        "# Drop rows where the 'cuisines' column is empty\n",
        "colombo_restaurants = colombo_restaurants[colombo_restaurants['cuisines'].str.strip() != '']\n",
        "\n",
        "# Drop the original 'cuisines_0' to 'cuisines_6' columns as they are now combined\n",
        "colombo_restaurants = colombo_restaurants.drop(columns=cuisine_columns)\n",
        "\n",
        "# Combine the 'dietaryRestrictions_0' to 'dietaryRestrictions_4' columns into one\n",
        "dietary_columns = ['dietaryRestrictions_0', 'dietaryRestrictions_1', 'dietaryRestrictions_2', 'dietaryRestrictions_3', 'dietaryRestrictions_4']\n",
        "colombo_restaurants['dietaryRestrictions'] = colombo_restaurants[dietary_columns].apply(lambda row: ', '.join(row.dropna().astype(str)), axis=1)\n",
        "\n",
        "# Replace empty 'dietaryRestrictions' with 'unknown' (or any other suitable value)\n",
        "colombo_restaurants['dietaryRestrictions'] = colombo_restaurants['dietaryRestrictions'].replace('', 'unknown')\n",
        "\n",
        "# Drop rows where the 'dietaryRestrictions' column is still empty or NaN after replacement\n",
        "colombo_restaurants = colombo_restaurants[colombo_restaurants['dietaryRestrictions'].str.strip() != '']\n",
        "\n",
        "# Drop the original 'dietaryRestrictions_0' to 'dietaryRestrictions_4' columns as they are now combined\n",
        "colombo_restaurants = colombo_restaurants.drop(columns=dietary_columns)\n",
        "\n",
        "# Combine the 'features_0' to 'features_23' columns into one\n",
        "features_columns = [f'features_{i}' for i in range(24)]  # 'features_0' to 'features_23'\n",
        "colombo_restaurants['features'] = colombo_restaurants[features_columns].apply(lambda row: ', '.join(row.dropna().astype(str)), axis=1)\n",
        "\n",
        "# Drop rows where the 'features' column is empty\n",
        "colombo_restaurants = colombo_restaurants[colombo_restaurants['features'].str.strip() != '']\n",
        "\n",
        "# Drop the original 'features_0' to 'features_23' columns as they are now combined\n",
        "colombo_restaurants = colombo_restaurants.drop(columns=features_columns)\n",
        "\n",
        "# Combine the 'mealTypes_0' to 'mealTypes_5' columns into one\n",
        "meal_columns = [f'mealTypes_{i}' for i in range(6)]  # 'mealTypes_0' to 'mealTypes_5'\n",
        "colombo_restaurants['mealTypes'] = colombo_restaurants[meal_columns].apply(lambda row: ', '.join(row.dropna().astype(str)), axis=1)\n",
        "\n",
        "# Drop rows where the 'mealTypes' column is empty\n",
        "colombo_restaurants = colombo_restaurants[colombo_restaurants['mealTypes'].str.strip() != '']\n",
        "\n",
        "# Drop the original 'mealTypes_0' to 'mealTypes_5' columns as they are now combined\n",
        "colombo_restaurants = colombo_restaurants.drop(columns=meal_columns)\n",
        "\n",
        "# Replace missing values in 'priceLevel' column with '$$' (representing the median or middle value)\n",
        "colombo_restaurants['priceLevel'] = colombo_restaurants['priceLevel'].fillna('$$')\n",
        "\n",
        "# List of columns to keep\n",
        "columns_to_keep = [\n",
        "    'address', 'cuisines', 'category', 'dietaryRestrictions', 'features',\n",
        "    'latitude', 'longitude', 'mealTypes', 'name', 'numberOfReviews',\n",
        "    'priceLevel', 'rankingDenominator', 'rankingPosition', 'rankingString',\n",
        "    'rating', 'rawRanking', 'webUrl', 'website'\n",
        "]\n",
        "\n",
        "# Drop all columns that are not in the list\n",
        "colombo_restaurants = colombo_restaurants[columns_to_keep]\n",
        "\n",
        "output_path = \"/content/drive/MyDrive/DSGP_ME/colomboRestaurants_processed.xlsx\"\n",
        "colombo_restaurants.to_excel(output_path, index=False)\n",
        "\n",
        "print(f\"Processed file saved at: {output_path}\")"
      ],
      "metadata": {
        "colab": {
          "base_uri": "https://localhost:8080/"
        },
        "id": "HWBGoSQClJac",
        "outputId": "8d039d29-6afb-4a30-92a8-06081672ea69"
      },
      "execution_count": 11,
      "outputs": [
        {
          "output_type": "stream",
          "name": "stdout",
          "text": [
            "Processed file saved at: /content/drive/MyDrive/DSGP_ME/colomboRestaurants_processed.xlsx\n"
          ]
        }
      ]
    }
  ]
}

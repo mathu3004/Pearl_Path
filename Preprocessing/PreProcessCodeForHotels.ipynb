{
  "nbformat": 4,
  "nbformat_minor": 0,
  "metadata": {
    "colab": {
      "provenance": []
    },
    "kernelspec": {
      "name": "python3",
      "display_name": "Python 3"
    },
    "language_info": {
      "name": "python"
    }
  },
  "cells": [
    {
      "cell_type": "code",
      "execution_count": 28,
      "metadata": {
        "colab": {
          "base_uri": "https://localhost:8080/",
          "height": 35
        },
        "id": "kD1DcfMkOrpq",
        "outputId": "686f201f-8548-4235-84d3-afa3665be0ef"
      },
      "outputs": [
        {
          "output_type": "execute_result",
          "data": {
            "text/plain": [
              "'/content/ProcessedKandyhHotels.xlsx'"
            ],
            "application/vnd.google.colaboratory.intrinsic+json": {
              "type": "string"
            }
          },
          "metadata": {},
          "execution_count": 28
        }
      ],
      "source": [
        "import pandas as pd\n",
        "import numpy as np\n",
        "\n",
        "# Load the Kandy dataset\n",
        "kandy_df = pd.read_excel('/content/dataset_tripadvisor_Hotels for KANDY.xlsx')\n",
        "\n",
        "# Standardize column names for consistency\n",
        "kandy_df.columns = kandy_df.columns.str.strip().str.lower().str.replace(' ', '_')\n",
        "\n",
        "# Ensure required columns exist and fill missing values with appropriate defaults\n",
        "required_columns = [\n",
        "    'address', 'all_amenities','description', 'email', 'phone','category','hotelclass', 'latitude', 'longitude', 'pricelevel', 'pricerange',\n",
        "    'rankingdenominator', 'name', 'rankingposition', 'rankingstring', 'rating',\n",
        "    'weburl', 'website'\n",
        "]\n",
        "\n",
        "# Fill missing values for each required column\n",
        "for col in required_columns:\n",
        "    if col not in kandy_df.columns:\n",
        "        kandy_df[col] = np.nan\n",
        "\n",
        "# Process key columns with appropriate defaults\n",
        "kandy_df['address'] = kandy_df['address'].fillna('no address')\n",
        "kandy_df['all_amenities'] = kandy_df['all_amenities'].fillna('not provided')\n",
        "kandy_df['description'] = kandy_df['description'].fillna('no description')\n",
        "kandy_df['email'] = kandy_df['email'].fillna('no email')\n",
        "kandy_df['phone'] = kandy_df['phone'].fillna('no phone')\n",
        "kandy_df['category'] = kandy_df['category'].fillna('no category')\n",
        "kandy_df['hotelclass'] = kandy_df['hotelclass'].fillna('not provided')\n",
        "kandy_df['latitude'] = kandy_df['latitude'].fillna('no latitude')\n",
        "kandy_df['longitude'] = kandy_df['longitude'].fillna('no longitude')\n",
        "kandy_df['pricelevel'] = kandy_df['pricelevel'].fillna('no price level')\n",
        "kandy_df['pricerange'] = kandy_df['pricerange'].fillna('No price mentioned')\n",
        "kandy_df['rankingdenominator'] = kandy_df['rankingdenominator'].fillna('not provided')\n",
        "kandy_df['name'] = kandy_df['name'].fillna('no name')\n",
        "kandy_df['rankingposition'] = kandy_df['rankingposition'].fillna('no ranking')\n",
        "kandy_df['rankingstring'] = kandy_df['rankingstring'].fillna('no ranking string')\n",
        "kandy_df['rating'] = kandy_df['rating'].fillna('not rated')\n",
        "kandy_df['weburl'] = kandy_df['weburl'].fillna('no web url')\n",
        "kandy_df['website'] = kandy_df['website'].fillna('no website')\n",
        "\n",
        "# Combine all amenities into a single column\n",
        "amenity_columns = [col for col in kandy_df.columns if 'amenities' in col]\n",
        "if amenity_columns:\n",
        "    kandy_df['all_amenities'] = kandy_df[amenity_columns].apply(lambda row: ', '.join(row.dropna().astype(str)), axis=1)\n",
        "\n",
        "# Select only the required columns for the final output\n",
        "filtered_df = kandy_df[[col for col in required_columns if col in kandy_df.columns]]\n",
        "\n",
        "# Export the final cleaned dataset to Excel\n",
        "output_path = '/content/ProcessedKandyhHotels.xlsx'\n",
        "filtered_df.to_excel(output_path, index=False)\n",
        "\n",
        "output_path\n"
      ]
    },
    {
      "cell_type": "code",
      "source": [
        "import pandas as pd\n",
        "import numpy as np\n",
        "\n",
        "# Load the Kandy dataset\n",
        "colombo_df = pd.read_excel('/content/colomboHotels.xlsx')\n",
        "\n",
        "# Standardize column names for consistency\n",
        "colombo_df.columns = colombo_df.columns.str.strip().str.lower().str.replace(' ', '_')\n",
        "\n",
        "# Ensure required columns exist and fill missing values with appropriate defaults\n",
        "required_columns = [\n",
        "    'address', 'all_amenities','description', 'email', 'phone','category','hotelclass', 'latitude', 'longitude', 'pricelevel', 'pricerange',\n",
        "    'rankingdenominator', 'name', 'rankingposition', 'rankingstring', 'rating',\n",
        "    'weburl', 'website'\n",
        "]\n",
        "\n",
        "# Fill missing values for each required column\n",
        "for col in required_columns:\n",
        "    if col not in colombo_df.columns:\n",
        "        colombo_df[col] = np.nan\n",
        "\n",
        "# Process key columns with appropriate defaults\n",
        "colombo_df['address'] = colombo_df['address'].fillna('no address')\n",
        "colombo_df['all_amenities'] = colombo_df['all_amenities'].fillna('not provided')\n",
        "colombo_df['description'] = colombo_df['description'].fillna('no description')\n",
        "colombo_df['email'] = colombo_df['email'].fillna('no email')\n",
        "colombo_df['phone'] = colombo_df['phone'].fillna('no phone')\n",
        "colombo_df['category'] = colombo_df['category'].fillna('no category')\n",
        "colombo_df['hotelclass'] = colombo_df['hotelclass'].fillna('not provided')\n",
        "colombo_df['latitude'] = colombo_df['latitude'].fillna('no latitude')\n",
        "colombo_df['longitude'] = colombo_df['longitude'].fillna('no longitude')\n",
        "colombo_df['pricelevel'] = colombo_df['pricelevel'].fillna('no price level')\n",
        "colombo_df['pricerange'] = colombo_df['pricerange'].fillna('No price mentioned')\n",
        "colombo_df['rankingdenominator'] = colombo_df['rankingdenominator'].fillna('not provided')\n",
        "colombo_df['name'] = colombo_df['name'].fillna('no name')\n",
        "colombo_df['rankingposition'] = colombo_df['rankingposition'].fillna('no ranking')\n",
        "colombo_df['rankingstring'] = colombo_df['rankingstring'].fillna('no ranking string')\n",
        "colombo_df['rating'] = colombo_df['rating'].fillna('not rated')\n",
        "colombo_df['weburl'] = colombo_df['weburl'].fillna('no web url')\n",
        "colombo_df['website'] = colombo_df['website'].fillna('no website')\n",
        "\n",
        "# Combine all amenities into a single column\n",
        "amenity_columns = [col for col in colombo_df.columns if 'amenities' in col]\n",
        "if amenity_columns:\n",
        "    colombo_df['all_amenities'] = colombo_df[amenity_columns].apply(lambda row: ', '.join(row.dropna().astype(str)), axis=1)\n",
        "\n",
        "# Select only the required columns for the final output\n",
        "filtered_df = colombo_df[[col for col in required_columns if col in colombo_df.columns]]\n",
        "\n",
        "# Export the final cleaned dataset to Excel\n",
        "output_path = '/content/ProcessedColomboHotels.xlsx'\n",
        "filtered_df.to_excel(output_path, index=False)\n",
        "\n",
        "output_path\n"
      ],
      "metadata": {
        "colab": {
          "base_uri": "https://localhost:8080/",
          "height": 35
        },
        "id": "X3qNn9AA81Vo",
        "outputId": "422e3b40-9f03-4fd2-d845-e6d1717ee822"
      },
      "execution_count": 36,
      "outputs": [
        {
          "output_type": "execute_result",
          "data": {
            "text/plain": [
              "'/content/ProcessedColomboHotels.xlsx'"
            ],
            "application/vnd.google.colaboratory.intrinsic+json": {
              "type": "string"
            }
          },
          "metadata": {},
          "execution_count": 36
        }
      ]
    },
    {
      "cell_type": "code",
      "source": [
        "import pandas as pd\n",
        "import numpy as np\n",
        "\n",
        "# Load the Kandy dataset\n",
        "ella_df = pd.read_excel('/content/hotelsElla.xlsx')\n",
        "\n",
        "# Standardize column names for consistency\n",
        "ella_df.columns = ella_df.columns.str.strip().str.lower().str.replace(' ', '_')\n",
        "\n",
        "# Ensure required columns exist and fill missing values with appropriate defaults\n",
        "required_columns = [\n",
        "    'address', 'all_amenities','description', 'email', 'phone','category','hotelclass', 'latitude', 'longitude', 'pricelevel', 'pricerange',\n",
        "    'rankingdenominator', 'name', 'rankingposition', 'rankingstring', 'rating',\n",
        "    'weburl', 'website'\n",
        "]\n",
        "\n",
        "# Fill missing values for each required column\n",
        "for col in required_columns:\n",
        "    if col not in ella_df.columns:\n",
        "        ella_df[col] = np.nan\n",
        "\n",
        "# Process key columns with appropriate defaults\n",
        "ella_df['address'] = ella_df['address'].fillna('no address')\n",
        "ella_df['all_amenities'] = ella_df['all_amenities'].fillna('not provided')\n",
        "ella_df['description'] = ella_df['description'].fillna('no description')\n",
        "ella_df['email'] = ella_df['email'].fillna('no email')\n",
        "ella_df['phone'] = ella_df['phone'].fillna('no phone')\n",
        "ella_df['category'] = ella_df['category'].fillna('no category')\n",
        "ella_df['hotelclass'] = ella_df['hotelclass'].fillna('not provided')\n",
        "ella_df['latitude'] = ella_df['latitude'].fillna('no latitude')\n",
        "ella_df['longitude'] = ella_df['longitude'].fillna('no longitude')\n",
        "ella_df['pricelevel'] = ella_df['pricelevel'].fillna('no price level')\n",
        "ella_df['pricerange'] = ella_df['pricerange'].fillna('No price mentioned')\n",
        "ella_df['rankingdenominator'] = ella_df['rankingdenominator'].fillna('not provided')\n",
        "ella_df['name'] = ella_df['name'].fillna('no name')\n",
        "ella_df['rankingposition'] = ella_df['rankingposition'].fillna('no ranking')\n",
        "ella_df['rankingstring'] = ella_df['rankingstring'].fillna('no ranking string')\n",
        "ella_df['rating'] = ella_df['rating'].fillna('not rated')\n",
        "ella_df['weburl'] = ella_df['weburl'].fillna('no web url')\n",
        "ella_df['website'] = ella_df['website'].fillna('no website')\n",
        "\n",
        "# Combine all amenities into a single column\n",
        "amenity_columns = [col for col in ella_df.columns if 'amenities' in col]\n",
        "if amenity_columns:\n",
        "    ella_df['all_amenities'] = ella_df[amenity_columns].apply(lambda row: ', '.join(row.dropna().astype(str)), axis=1)\n",
        "\n",
        "# Select only the required columns for the final output\n",
        "filtered_df = ella_df[[col for col in required_columns if col in ella_df.columns]]\n",
        "\n",
        "# Export the final cleaned dataset to Excel\n",
        "output_path = '/content/ProcessedEllaHotels.xlsx'\n",
        "filtered_df.to_excel(output_path, index=False)\n",
        "\n",
        "output_path\n"
      ],
      "metadata": {
        "colab": {
          "base_uri": "https://localhost:8080/",
          "height": 35
        },
        "id": "-GYuuzTa2TrT",
        "outputId": "5c282717-ed8e-4323-bc45-2c3df8b43500"
      },
      "execution_count": 37,
      "outputs": [
        {
          "output_type": "execute_result",
          "data": {
            "text/plain": [
              "'/content/ProcessedEllaHotels.xlsx'"
            ],
            "application/vnd.google.colaboratory.intrinsic+json": {
              "type": "string"
            }
          },
          "metadata": {},
          "execution_count": 37
        }
      ]
    },
    {
      "cell_type": "code",
      "source": [
        "import pandas as pd\n",
        "import numpy as np\n",
        "\n",
        "# Load the dataset\n",
        "file_path = '/content/dataset_tripadvisor_2025-02-22_05-29-45-213.csv'\n",
        "nuwaraeliya_df = pd.read_csv(file_path)\n",
        "\n",
        "# Standardize column names for consistency\n",
        "nuwaraeliya_df.columns = nuwaraeliya_df.columns.str.strip().str.lower().str.replace(' ', '_')\n",
        "\n",
        "# Ensure required columns exist and fill missing values with appropriate defaults\n",
        "required_columns = [\n",
        "    'address', 'all_amenities','description', 'email', 'phone','category','hotelclass', 'latitude', 'longitude', 'pricelevel', 'pricerange',\n",
        "    'rankingdenominator', 'name', 'rankingposition', 'rankingstring', 'rating',\n",
        "    'weburl', 'website'\n",
        "]\n",
        "\n",
        "# Fill missing values for each required column\n",
        "for col in required_columns:\n",
        "    if col not in nuwaraeliya_df.columns:\n",
        "        nuwaraeliya_df[col] = np.nan\n",
        "\n",
        "# Process key columns with appropriate defaults\n",
        "nuwaraeliya_df['address'] = nuwaraeliya_df['address'].fillna('no address')\n",
        "nuwaraeliya_df['all_amenities'] = nuwaraeliya_df['all_amenities'].fillna('not provided')\n",
        "nuwaraeliya_df['description'] = nuwaraeliya_df['description'].fillna('no description')\n",
        "nuwaraeliya_df['email'] = nuwaraeliya_df['email'].fillna('no email')\n",
        "nuwaraeliya_df['phone'] = nuwaraeliya_df['phone'].fillna('no phone')\n",
        "nuwaraeliya_df['category'] = nuwaraeliya_df['category'].fillna('no category')\n",
        "nuwaraeliya_df['hotelclass'] = nuwaraeliya_df['hotelclass'].fillna('not provided')\n",
        "nuwaraeliya_df['latitude'] = nuwaraeliya_df['latitude'].fillna('no latitude')\n",
        "nuwaraeliya_df['longitude'] = nuwaraeliya_df['longitude'].fillna('no longitude')\n",
        "nuwaraeliya_df['pricelevel'] = nuwaraeliya_df['pricelevel'].fillna('no price level')\n",
        "nuwaraeliya_df['pricerange'] = nuwaraeliya_df['pricerange'].fillna('No price mentioned')\n",
        "nuwaraeliya_df['rankingdenominator'] = nuwaraeliya_df['rankingdenominator'].fillna('not provided')\n",
        "nuwaraeliya_df['name'] = nuwaraeliya_df['name'].fillna('no name')\n",
        "nuwaraeliya_df['rankingposition'] = nuwaraeliya_df['rankingposition'].fillna('no ranking')\n",
        "nuwaraeliya_df['rankingstring'] = nuwaraeliya_df['rankingstring'].fillna('no ranking string')\n",
        "nuwaraeliya_df['rating'] = nuwaraeliya_df['rating'].fillna('not rated')\n",
        "nuwaraeliya_df['weburl'] = nuwaraeliya_df['weburl'].fillna('no web url')\n",
        "nuwaraeliya_df['website'] = nuwaraeliya_df['website'].fillna('no website')\n",
        "\n",
        "# Combine all amenities into a single column\n",
        "amenity_columns = [col for col in nuwaraeliya_df.columns if 'amenities' in col]\n",
        "if amenity_columns:\n",
        "    nuwaraeliya_df['all_amenities'] = nuwaraeliya_df[amenity_columns].apply(lambda row: ', '.join(row.dropna().astype(str)), axis=1)\n",
        "\n",
        "# Select only the required columns for the final output\n",
        "filtered_df = nuwaraeliya_df[[col for col in required_columns if col in nuwaraeliya_df.columns]]\n",
        "\n",
        "# Export the final cleaned dataset to Excel\n",
        "output_path = '/content/ProcessedNuwaraEliyaHotels.xlsx'\n",
        "filtered_df.to_excel(output_path, index=False)\n",
        "\n",
        "output_path\n"
      ],
      "metadata": {
        "colab": {
          "base_uri": "https://localhost:8080/",
          "height": 35
        },
        "id": "z-5Wvp52KkCi",
        "outputId": "79749966-a67d-42b9-b6ac-93b6197afa8c"
      },
      "execution_count": 38,
      "outputs": [
        {
          "output_type": "execute_result",
          "data": {
            "text/plain": [
              "'/content/ProcessedNuwaraEliyaHotels.xlsx'"
            ],
            "application/vnd.google.colaboratory.intrinsic+json": {
              "type": "string"
            }
          },
          "metadata": {},
          "execution_count": 38
        }
      ]
    },
    {
      "cell_type": "code",
      "source": [
        "import pandas as pd\n",
        "import os\n",
        "\n",
        "# List of file paths\n",
        "file_paths = [\n",
        "    '/content/ProcessedColomboHotels.xlsx',\n",
        "    '/content/ProcessedEllaHotels.xlsx',\n",
        "    '/content/ProcessedKandyhHotels.xlsx',\n",
        "    '/content/ProcessedNuwaraEliyaHotels.xlsx'\n",
        "]\n",
        "\n",
        "# Read each file into a DataFrame and store them in a list\n",
        "dataframes = [pd.read_excel(file) for file in file_paths]\n",
        "\n",
        "# Concatenate all DataFrames into one DataFrame\n",
        "combined_df = pd.concat(dataframes, ignore_index=True)\n",
        "\n",
        "# Save the combined DataFrame to a CSV file\n",
        "output_path = '/content/ProcessedHotels.csv'\n",
        "combined_df.to_csv(output_path, index=False)\n",
        "\n",
        "print(f\"Combined data saved to {output_path}\")"
      ],
      "metadata": {
        "colab": {
          "base_uri": "https://localhost:8080/"
        },
        "id": "-I33j3tMP85U",
        "outputId": "fb23dc1f-711a-4548-f3db-fa34c57fed1d"
      },
      "execution_count": 32,
      "outputs": [
        {
          "output_type": "stream",
          "name": "stdout",
          "text": [
            "Combined data saved to /content/ProcessedHotels.csv\n"
          ]
        }
      ]
    }
  ]
}
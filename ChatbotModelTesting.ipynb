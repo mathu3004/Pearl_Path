{
  "nbformat": 4,
  "nbformat_minor": 0,
  "metadata": {
    "colab": {
      "provenance": [],
      "authorship_tag": "ABX9TyPJcdxZjmqnA6Mz+1tK2RR9",
      "include_colab_link": true
    },
    "kernelspec": {
      "name": "python3",
      "display_name": "Python 3"
    },
    "language_info": {
      "name": "python"
    }
  },
  "cells": [
    {
      "cell_type": "markdown",
      "metadata": {
        "id": "view-in-github",
        "colab_type": "text"
      },
      "source": [
        "<a href=\"https://colab.research.google.com/github/mathu3004/Pearl_Path/blob/Chatbot/ChatbotModelTesting.ipynb\" target=\"_parent\"><img src=\"https://colab.research.google.com/assets/colab-badge.svg\" alt=\"Open In Colab\"/></a>"
      ]
    },
    {
      "cell_type": "code",
      "execution_count": 1,
      "metadata": {
        "id": "22pbGveEayVL"
      },
      "outputs": [],
      "source": [
        "test_dataset = [\n",
        "    # Emergency Assistance\n",
        "    (\"What is the nearest hospital in Kandy?\", \"emergency_assistance\"),\n",
        "    (\"How do I perform CPR?\", \"emergency_assistance\"),\n",
        "    (\"Contact number for the police station in Colombo?\", \"emergency_assistance\"),\n",
        "\n",
        "    # Information Hub\n",
        "    (\"Tell me about the history of the Temple of the Tooth.\", \"information_hub\"),\n",
        "    (\"When was the Nuwara Eliya Botanical Garden built?\", \"information_hub\"),\n",
        "    (\"What are the opening hours of the National Museum of Colombo?\", \"information_hub\"),\n",
        "\n",
        "    # User-Provider Connection\n",
        "    (\"What is the phone number of Hotel X in Kandy?\", \"user_provider_connection\"),\n",
        "    (\"Provide the email of Restaurant Y in Ella.\", \"user_provider_connection\"),\n",
        "    (\"Amenities of Hotel Z in Nuwara Eliya.\", \"user_provider_connection\"),\n",
        "\n",
        "    # Recommendations\n",
        "    (\"Recommend me 7 hotels in Kandy.\", \"recommendations\"),\n",
        "    (\"Suggest some restaurants in Ella.\", \"recommendations\"),\n",
        "    (\"What are the best attractions in Colombo?\", \"recommendations\"),\n",
        "\n",
        "    # Chatbot Information\n",
        "    (\"What is your name?\", \"chatbot_info\"),\n",
        "    (\"Tell me about the trip itinerary application.\", \"chatbot_info\"),\n",
        "    (\"How can you assist me with my trip planning?\", \"chatbot_info\"),\n",
        "\n",
        "    # Unknown\n",
        "    (\"What is the weather like today?\", \"unknown\"),\n",
        "    (\"Can you tell me a joke?\", \"unknown\"),\n",
        "    (\"What are the latest news headlines?\", \"unknown\")\n",
        "]\n"
      ]
    },
    {
      "cell_type": "code",
      "source": [],
      "metadata": {
        "id": "LUQ9poTyAQnq"
      },
      "execution_count": null,
      "outputs": []
    }
  ]
}
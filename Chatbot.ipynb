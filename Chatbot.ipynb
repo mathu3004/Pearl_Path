{
  "nbformat": 4,
  "nbformat_minor": 0,
  "metadata": {
    "colab": {
      "provenance": [],
      "authorship_tag": "ABX9TyPT1D9UF2xALv8/h6J9snhN",
      "include_colab_link": true
    },
    "kernelspec": {
      "name": "python3",
      "display_name": "Python 3"
    },
    "language_info": {
      "name": "python"
    }
  },
  "cells": [
    {
      "cell_type": "markdown",
      "metadata": {
        "id": "view-in-github",
        "colab_type": "text"
      },
      "source": [
        "<a href=\"https://colab.research.google.com/github/mathu3004/Pearl_Path/blob/Chatbot/Chatbot.ipynb\" target=\"_parent\"><img src=\"https://colab.research.google.com/assets/colab-badge.svg\" alt=\"Open In Colab\"/></a>"
      ]
    },
    {
      "cell_type": "code",
      "source": [
        "!pip install --upgrade torch torchvision transformers\n"
      ],
      "metadata": {
        "id": "ZVJI3MkivNDc"
      },
      "execution_count": null,
      "outputs": []
    },
    {
      "cell_type": "code",
      "source": [
        "import pandas as pd\n",
        "from transformers import RagTokenizer, RagRetriever, RagTokenForGeneration\n",
        "import torch\n",
        "import faiss\n",
        "\n",
        "# Load data from Excel sheets\n",
        "hotels_df = pd.read_excel('/content/preprocessed_hotel_data.xlsx')\n",
        "activities_df = pd.read_excel('/content/processed_data_Attractions_Colombo.xlsx')\n",
        "restaurants_df = pd.read_excel('/content/preprocessed_colombo_restaurant.xlsx')\n",
        "\n",
        "# Combine dataframes for simplicity (assuming they have similar structures)\n",
        "data_df = pd.concat([hotels_df, activities_df, restaurants_df], ignore_index=True)\n",
        "\n",
        "# Preprocess data\n",
        "# For simplicity, let's assume the data has columns: 'name', 'description', 'category'\n",
        "data_df['description'] = data_df['description'].fillna('')\n",
        "data_df['category'] = data_df['category'].fillna('unknown')\n",
        "\n",
        "# Convert descriptions to a list of documents\n",
        "documents = data_df['description'].tolist()\n"
      ],
      "metadata": {
        "id": "y88822yEsIZq"
      },
      "execution_count": null,
      "outputs": []
    },
    {
      "cell_type": "code",
      "source": [
        "# Initialize RAG tokenizer and retriever\n",
        "tokenizer = RagTokenizer.from_pretrained(\"facebook/rag-token-nq\")\n",
        "retriever = RagRetriever.from_pretrained(\"facebook/rag-token-nq\", indexed_dataset=documents)\n",
        "\n",
        "# Initialize RAG model\n",
        "model = RagTokenForGeneration.from_pretrained(\"facebook/rag-token-nq\", retriever=retriever)\n"
      ],
      "metadata": {
        "id": "kEDa-Wh1sU-i"
      },
      "execution_count": null,
      "outputs": []
    },
    {
      "cell_type": "code",
      "source": [
        "from transformers import Trainer, TrainingArguments\n",
        "\n",
        "# Prepare data for training\n",
        "class RagDataset(torch.utils.data.Dataset):\n",
        "    def __init__(self, encodings, labels):\n",
        "        self.encodings = encodings\n",
        "        self.labels = labels\n",
        "\n",
        "    def __getitem__(self, idx):\n",
        "        item = {key: torch.tensor(val[idx]) for key, val in self.encodings.items()}\n",
        "        item['labels'] = torch.tensor(self.labels[idx])\n",
        "        return item\n",
        "\n",
        "    def __len__(self):\n",
        "        return len(self.labels)\n",
        "\n",
        "# Tokenize descriptions\n",
        "train_encodings = tokenizer(documents, truncation=True, padding=True)\n",
        "\n",
        "# Prepare labels (assuming binary classification for simplicity)\n",
        "labels = [1 if category == 'hotel' else 0 for category in data_df['category']]\n",
        "\n",
        "# Create dataset\n",
        "dataset = RagDataset(train_encodings, labels)\n",
        "# Define training arguments\n",
        "training_args = TrainingArguments(\n",
        "    output_dir='./results',\n",
        "    num_train_epochs=3,\n",
        "    per_device_train_batch_size=4,\n",
        "    per_device_eval_batch_size=4,\n",
        "    warmup_steps=500,\n",
        "    weight_decay=0.01,\n",
        "    logging_dir='./logs',\n",
        ")\n",
        "\n",
        "# Initialize Trainer\n",
        "trainer = Trainer(\n",
        "    model=model,\n",
        "    args=training_args,\n",
        "    train_dataset=dataset,\n",
        ")\n"
      ],
      "metadata": {
        "id": "CMi-VVcJsZn5"
      },
      "execution_count": null,
      "outputs": []
    },
    {
      "cell_type": "code",
      "source": [
        "# Train the model\n",
        "trainer.train()\n",
        "\n",
        "# Evaluate the model\n",
        "eval_results = trainer.evaluate()\n",
        "print(f'Evaluation Results: {eval_results}')\n"
      ],
      "metadata": {
        "id": "ABsMq-yDuVfA"
      },
      "execution_count": null,
      "outputs": []
    },
    {
      "cell_type": "code",
      "execution_count": null,
      "metadata": {
        "id": "sjQIO4jSmxTy"
      },
      "outputs": [],
      "source": [
        "# Example prediction\n",
        "sample_description = \"A luxurious 5-star hotel with a beautiful view\"\n",
        "inputs = tokenizer(sample_description, return_tensors='pt')\n",
        "\n",
        "# Generate response\n",
        "with torch.no_grad():\n",
        "    outputs = model.generate(**inputs)\n",
        "\n",
        "# Decode the generated response\n",
        "generated_response = tokenizer.decode(outputs[0], skip_special_tokens=True)\n",
        "print(f'Generated Response: {generated_response}')\n"
      ]
    }
  ]
}
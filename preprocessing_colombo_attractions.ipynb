{
  "nbformat": 4,
  "nbformat_minor": 0,
  "metadata": {
    "colab": {
      "provenance": [],
      "authorship_tag": "ABX9TyPphcCmLAq7yRCprWZ3WIkB",
      "include_colab_link": true
    },
    "kernelspec": {
      "name": "python3",
      "display_name": "Python 3"
    },
    "language_info": {
      "name": "python"
    }
  },
  "cells": [
    {
      "cell_type": "markdown",
      "metadata": {
        "id": "view-in-github",
        "colab_type": "text"
      },
      "source": [
        "<a href=\"https://colab.research.google.com/github/mathu3004/Pearl_Path/blob/Preprocessing/preprocessing_colombo_attractions.ipynb\" target=\"_parent\"><img src=\"https://colab.research.google.com/assets/colab-badge.svg\" alt=\"Open In Colab\"/></a>"
      ]
    },
    {
      "cell_type": "code",
      "execution_count": 1,
      "metadata": {
        "colab": {
          "base_uri": "https://localhost:8080/"
        },
        "id": "-9p7eeK_X5K_",
        "outputId": "addba464-01c8-4b95-a1fc-98b1b6a4d0f3"
      },
      "outputs": [
        {
          "output_type": "stream",
          "name": "stdout",
          "text": [
            "Mounted at /content/drive\n"
          ]
        }
      ],
      "source": [
        "from google.colab import drive\n",
        "drive.mount('/content/drive')"
      ]
    },
    {
      "cell_type": "code",
      "source": [
        "import pandas as pd\n",
        "import re\n",
        "import numpy as np"
      ],
      "metadata": {
        "id": "wdSZz0XKYCzu"
      },
      "execution_count": 4,
      "outputs": []
    },
    {
      "cell_type": "code",
      "source": [
        "colombo_attractions = pd.read_excel('/content/drive/MyDrive/DSGP_ME/AttractionsColombo.xlsx', engine='openpyxl')\n",
        "\n",
        "# Rename columns by replacing '/' with '_'\n",
        "colombo_attractions.columns = colombo_attractions.columns.str.replace('/', '_', regex=False)\n",
        "\n",
        "# Clean the 'offerGroup_lowestPrice' column\n",
        "colombo_attractions['lowestPrice_LKR'] = colombo_attractions['offerGroup_lowestPrice'].astype(str).apply(lambda x: re.sub(r'[^\\d.]', '', x) if pd.notna(x) else '')\n",
        "\n",
        "# Convert to numeric type\n",
        "colombo_attractions['lowestPrice_LKR'] = pd.to_numeric(colombo_attractions['lowestPrice_LKR'], errors='coerce')\n",
        "\n",
        "# Fill missing values with the median\n",
        "median_price = colombo_attractions['lowestPrice_LKR'].median()\n",
        "colombo_attractions['lowestPrice_LKR'].fillna(median_price, inplace=True)\n",
        "\n",
        "# Drop the original column\n",
        "colombo_attractions.drop(columns=['offerGroup_lowestPrice'], inplace=True)\n",
        "\n",
        "# Combine 'subcategories_0' to 'subcategories_9' into one column\n",
        "subcategories_columns = [f'subcategories_{i}' for i in range(10)]\n",
        "colombo_attractions['subcategories'] = colombo_attractions[subcategories_columns].apply(lambda row: ', '.join(row.dropna().astype(str)), axis=1)\n",
        "\n",
        "# Drop rows where 'subcategories' column is empty\n",
        "colombo_attractions = colombo_attractions[colombo_attractions['subcategories'].str.strip() != '']\n",
        "\n",
        "# Drop the original 'subcategories_0' to 'subcategories_9' columns\n",
        "colombo_attractions.drop(columns=subcategories_columns, inplace=True)\n",
        "\n",
        "# Add the 'duration_hours' column with random values of 2, 3, or 4\n",
        "colombo_attractions['duration_hours'] = np.random.choice([2, 3, 4], size=len(colombo_attractions))\n",
        "\n",
        "# List of columns to keep\n",
        "columns_to_keep = [\n",
        "    'address', 'category', 'name', 'numberOfReviews',\n",
        "    'rankingDenominator', 'rankingPosition', 'rankingString', 'rating',\n",
        "    'webUrl', 'lowestPrice_LKR', 'subcategories', 'duration_hours'\n",
        "]\n",
        "\n",
        "# Keep only the specified columns\n",
        "colombo_attractions = colombo_attractions[columns_to_keep]\n",
        "\n",
        "# Save the processed dataset\n",
        "output_path = \"/content/drive/MyDrive/DSGP_ME/colombo_attractions_processed.xlsx\"\n",
        "colombo_attractions.to_excel(output_path, index=False)\n",
        "\n",
        "print(f\"Processed file saved at: {output_path}\")"
      ],
      "metadata": {
        "id": "gKHDqI-qYRXg",
        "colab": {
          "base_uri": "https://localhost:8080/"
        },
        "outputId": "8d4f08fe-de96-4140-8a5d-20a78199f5a8"
      },
      "execution_count": 5,
      "outputs": [
        {
          "output_type": "stream",
          "name": "stderr",
          "text": [
            "<ipython-input-5-616247c54690>:14: FutureWarning: A value is trying to be set on a copy of a DataFrame or Series through chained assignment using an inplace method.\n",
            "The behavior will change in pandas 3.0. This inplace method will never work because the intermediate object on which we are setting values always behaves as a copy.\n",
            "\n",
            "For example, when doing 'df[col].method(value, inplace=True)', try using 'df.method({col: value}, inplace=True)' or df[col] = df[col].method(value) instead, to perform the operation inplace on the original object.\n",
            "\n",
            "\n",
            "  colombo_attractions['lowestPrice_LKR'].fillna(median_price, inplace=True)\n"
          ]
        },
        {
          "output_type": "stream",
          "name": "stdout",
          "text": [
            "Processed file saved at: /content/drive/MyDrive/DSGP_ME/colombo_attractions_processed.xlsx\n"
          ]
        }
      ]
    }
  ]
}
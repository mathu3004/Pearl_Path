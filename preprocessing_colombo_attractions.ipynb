{
  "nbformat": 4,
  "nbformat_minor": 0,
  "metadata": {
    "colab": {
      "provenance": [],
      "authorship_tag": "ABX9TyMeKjA05RVEyI5kw/gTaG3D",
      "include_colab_link": true
    },
    "kernelspec": {
      "name": "python3",
      "display_name": "Python 3"
    },
    "language_info": {
      "name": "python"
    }
  },
  "cells": [
    {
      "cell_type": "markdown",
      "metadata": {
        "id": "view-in-github",
        "colab_type": "text"
      },
      "source": [
        "<a href=\"https://colab.research.google.com/github/mathu3004/Pearl_Path/blob/Preprocessing/preprocessing_colombo_attractions.ipynb\" target=\"_parent\"><img src=\"https://colab.research.google.com/assets/colab-badge.svg\" alt=\"Open In Colab\"/></a>"
      ]
    },
    {
      "cell_type": "code",
      "execution_count": null,
      "metadata": {
        "colab": {
          "base_uri": "https://localhost:8080/"
        },
        "id": "-9p7eeK_X5K_",
        "outputId": "69d83799-e281-469d-ca29-1c9d84f0c543"
      },
      "outputs": [
        {
          "output_type": "stream",
          "name": "stdout",
          "text": [
            "Drive already mounted at /content/drive; to attempt to forcibly remount, call drive.mount(\"/content/drive\", force_remount=True).\n"
          ]
        }
      ],
      "source": [
        "from google.colab import drive\n",
        "drive.mount('/content/drive')"
      ]
    },
    {
      "cell_type": "code",
      "source": [
        "import pandas as pd\n",
        "import re"
      ],
      "metadata": {
        "id": "wdSZz0XKYCzu"
      },
      "execution_count": 6,
      "outputs": []
    },
    {
      "cell_type": "code",
      "source": [
        "colombo_attractions = pd.read_excel('/content/drive/MyDrive/DSGP_ME/AttractionsColombo.xlsx', engine='openpyxl')\n",
        "\n",
        "# Rename columns by replacing '/' with '_'\n",
        "colombo_attractions.columns = colombo_attractions.columns.str.replace('/', '_', regex=False)\n",
        "\n",
        "# Clean the 'offerGroup_lowestPrice' column\n",
        "colombo_attractions['lowestPrice_LKR'] = colombo_attractions['offerGroup_lowestPrice'].astype(str).apply(lambda x: re.sub(r'[^\\d.]', '', x) if pd.notna(x) else '')\n",
        "\n",
        "# Convert to numeric type\n",
        "colombo_attractions['lowestPrice_LKR'] = pd.to_numeric(colombo_attractions['lowestPrice_LKR'], errors='coerce')\n",
        "\n",
        "# Fill missing values with the median\n",
        "median_price = colombo_attractions['lowestPrice_LKR'].median()\n",
        "colombo_attractions['lowestPrice_LKR'].fillna(median_price, inplace=True)\n",
        "\n",
        "# Drop the original column\n",
        "colombo_attractions.drop(columns=['offerGroup_lowestPrice'], inplace=True)\n",
        "\n",
        "# Combine 'subcategories_0' to 'subcategories_9' into one column\n",
        "subcategories_columns = [f'subcategories_{i}' for i in range(10)]\n",
        "colombo_attractions['subcategories'] = colombo_attractions[subcategories_columns].apply(lambda row: ', '.join(row.dropna().astype(str)), axis=1)\n",
        "\n",
        "# Drop rows where 'subcategories' column is empty\n",
        "colombo_attractions = colombo_attractions[colombo_attractions['subcategories'].str.strip() != '']\n",
        "\n",
        "# Drop the original 'subcategories_0' to 'subcategories_9' columns\n",
        "colombo_attractions.drop(columns=subcategories_columns, inplace=True)\n",
        "\n",
        "# List of columns to keep\n",
        "columns_to_keep = [\n",
        "    'address', 'category', 'latitude', 'longitude', 'name', 'numberOfReviews',\n",
        "    'rankingDenominator', 'rankingPosition', 'rankingString', 'rating',\n",
        "    'webUrl', 'lowestPrice_LKR', 'subcategories'\n",
        "]\n",
        "\n",
        "# Keep only the specified columns\n",
        "colombo_attractions = colombo_attractions[columns_to_keep]\n",
        "\n",
        "# Save the processed dataset\n",
        "output_path = \"/content/drive/MyDrive/DSGP_ME/colombo_attractions_processed.xlsx\"\n",
        "colombo_attractions.to_excel(output_path, index=False)\n",
        "\n",
        "print(f\"Processed file saved at: {output_path}\")"
      ],
      "metadata": {
        "id": "gKHDqI-qYRXg",
        "colab": {
          "base_uri": "https://localhost:8080/"
        },
        "outputId": "b64dba71-5e1d-477a-9b03-e7755557bcfe"
      },
      "execution_count": 9,
      "outputs": [
        {
          "output_type": "stream",
          "name": "stdout",
          "text": [
            "Processed file saved at: /content/drive/MyDrive/DSGP_ME/colombo_attractions_processed.xlsx\n"
          ]
        },
        {
          "output_type": "stream",
          "name": "stderr",
          "text": [
            "<ipython-input-9-7b660899bdf6>:14: FutureWarning: A value is trying to be set on a copy of a DataFrame or Series through chained assignment using an inplace method.\n",
            "The behavior will change in pandas 3.0. This inplace method will never work because the intermediate object on which we are setting values always behaves as a copy.\n",
            "\n",
            "For example, when doing 'df[col].method(value, inplace=True)', try using 'df.method({col: value}, inplace=True)' or df[col] = df[col].method(value) instead, to perform the operation inplace on the original object.\n",
            "\n",
            "\n",
            "  colombo_attractions['lowestPrice_LKR'].fillna(median_price, inplace=True)\n"
          ]
        }
      ]
    }
  ]
}